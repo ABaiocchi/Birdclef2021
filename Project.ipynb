{
 "cells": [
  {
   "cell_type": "markdown",
   "metadata": {},
   "source": [
    "Imports nella cella nascosta seguente"
   ]
  },
  {
   "cell_type": "code",
   "execution_count": null,
   "metadata": {
    "jupyter": {
     "source_hidden": true
    },
    "tags": []
   },
   "outputs": [],
   "source": [
    "import torch.nn as nn\n",
    "import torch.optim as optim\n",
    "import torch\n",
    "from torchvision.transforms import transforms\n",
    "from torch.utils.data import DataLoader\n",
    "from torch.utils.data import WeightedRandomSampler\n",
    "from tqdm import tqdm\n",
    "import torch.nn.functional as F\n",
    "from torchvision.models import resnet34\n",
    "import numpy as np\n",
    "from sklearn.metrics import confusion_matrix\n",
    "import seaborn as sns\n",
    "from torch.utils.data import WeightedRandomSampler\n",
    "import pandas as pd\n",
    "from collections import Counter\n",
    "import matplotlib.pyplot as plt\n",
    "import os\n",
    "from torch.utils.data import Dataset\n",
    "from skimage import io\n",
    "from sklearn import preprocessing\n",
    "import wandb"
   ]
  },
  {
   "cell_type": "code",
   "execution_count": null,
   "metadata": {
    "tags": []
   },
   "outputs": [],
   "source": [
    "#LOGIN WANDB\n",
    "\n",
    "#os.environ[\"WANDB_API_KEY\"] = \"\"\n",
    "#os.environ[\"WANDB_MODE\"] = \"dryrun\"\n",
    "#!pip install wandb -qqq\n",
    "wandb.login()"
   ]
  },
  {
   "cell_type": "code",
   "execution_count": null,
   "metadata": {},
   "outputs": [],
   "source": [
    "#Reproducibility stuff\n",
    "np.random.seed(42)\n",
    "torch.manual_seed(42)\n",
    "torch.backends.cudnn.deterministic = True\n",
    "torch.backends.cudnn.benchmark = False"
   ]
  },
  {
   "cell_type": "markdown",
   "metadata": {},
   "source": [
    "Definizione Dataset e Trasformazioni nella cella nascosta seguente"
   ]
  },
  {
   "cell_type": "code",
   "execution_count": null,
   "metadata": {
    "jupyter": {
     "source_hidden": true
    },
    "tags": []
   },
   "outputs": [],
   "source": [
    "class MyDataset(Dataset):\n",
    "    def __init__(self, path, csv_file, transform=None, **kwargs, ):\n",
    "        self.path = path\n",
    "        self.annotations = pd.read_csv(csv_file, header=None)\n",
    "        self.transform = transform\n",
    "        self.le = preprocessing.LabelEncoder()\n",
    "        self.labels = self.le.fit_transform(self.annotations.iloc[:, 1])\n",
    "\n",
    "    def __len__(self) -> int:\n",
    "        return len(self.annotations)\n",
    "\n",
    "    def __getitem__(self, index):\n",
    "        img_path = os.path.join(self.path, self.annotations.iloc[index, 0])  # path dell'immagine CHECK\n",
    "        image = io.imread(img_path)\n",
    "        y_label = self.labels[index]\n",
    "        \n",
    "        if self.transform:\n",
    "            image = self.transform(image)\n",
    "            \n",
    "        return (image, y_label)\n",
    "\n",
    "\n",
    "class MapDataset(torch.utils.data.Dataset):\n",
    "    \"\"\"\n",
    "    Given a dataset, creates a dataset which applies a mapping function\n",
    "    to its items (lazily, only when an item is called).\n",
    "\n",
    "    Note that data is not cloned/copied from the initial dataset.\n",
    "    \"\"\"\n",
    "\n",
    "    def __init__(self, dataset, map_fn):\n",
    "        self.dataset = dataset\n",
    "        self.map = map_fn\n",
    "\n",
    "    def __getitem__(self, index):\n",
    "        image = self.map(self.dataset[index][0])\n",
    "        label = self.dataset[index][1]\n",
    "        return (image, label)\n",
    "        \n",
    "    def __len__(self):\n",
    "        return len(self.dataset)\n",
    "    \n",
    "    \n",
    "class AddGaussianNoise(object):\n",
    "    def __init__(self, mean=0., std=1.):\n",
    "        self.std = std\n",
    "        self.mean = mean\n",
    "        \n",
    "    def __call__(self, tensor):\n",
    "        return tensor + torch.randn(tensor.size()) * self.std + self.mean\n",
    "    \n",
    "    def __repr__(self):\n",
    "        return self.__class__.__name__ + '(mean={0}, std={1})'.format(self.mean, self.std)\n",
    "    \n",
    "    \n",
    "class RollTransformation(object):\n",
    "    def __init__(self, shift, dim):\n",
    "        self.shift = shift\n",
    "        self.dim = dim\n",
    "        \n",
    "    def __call__(self, tensor):\n",
    "        return torch.roll(input=tensor,shifts=self.shift, dims=self.dim)\n",
    "    \n",
    "    def __repr__(self):\n",
    "        return self.__class__.__name__ + '(mean={0}, std={1})'.format(self.mean, self.std)\n",
    "    \n",
    "class AddGaussianNoise(object):\n",
    "    def __init__(self, mean=0., std=1.):\n",
    "        self.std = std\n",
    "        self.mean = mean\n",
    "        \n",
    "    def __call__(self, tensor):\n",
    "        return tensor + torch.randn(tensor.size()) * self.std + self.mean\n",
    "    \n",
    "    def __repr__(self):\n",
    "        return self.__class__.__name__ + '(mean={0}, std={1})'.format(self.mean, self.std)\n",
    "    "
   ]
  },
  {
   "cell_type": "markdown",
   "metadata": {},
   "source": [
    "Istanziamento Dataset e Dataloader"
   ]
  },
  {
   "cell_type": "code",
   "execution_count": null,
   "metadata": {},
   "outputs": [],
   "source": [
    "device = torch.device('cuda' if torch.cuda.is_available() else 'cpu')\n",
    "batch_size = 32\n",
    "\n",
    "\n",
    "image_transforms = transforms.Compose(\n",
    "    [\n",
    "        transforms.ToTensor(),\n",
    "        transforms.Normalize(mean=(0.5,), std=(0.5,)),\n",
    "    ]\n",
    ")\n",
    "\n",
    "train_map = transforms.Compose(\n",
    "    [\n",
    "        #transforms.RandomRotation(degrees=10),\n",
    "        AddGaussianNoise(mean=0, std=0.05),\n",
    "        #RollTransformation(shift=int((torch.rand(1)-0.5)*97), dim=1),\n",
    "        #RollTransformation(shift=int((torch.rand(1)-0.5)*0.3*128), dim=0),\n",
    "    ]\n",
    ")\n",
    "\n",
    "dataset = MyDataset(csv_file = \"classes_denoised_small.csv\", path = \"Dataset_small\", transform = image_transforms)\n",
    "testlen = int(len(dataset)*0.2)\n",
    "temp, test_set = torch.utils.data.random_split(dataset,[len(dataset)-testlen, testlen])\n",
    "vallen = int(len(temp)*0.2)\n",
    "train_set_temp, val_set = torch.utils.data.random_split(temp,[len(temp)-vallen, vallen])\n",
    "train_set = MapDataset(train_set_temp, train_map)\n",
    "#train_set, val_set = torch.utils.data.random_split(temp,[len(temp)-vallen, vallen])\n",
    "\n",
    "\n",
    "#LOADER NON PESATI\n",
    "\n",
    "#train_loader = DataLoader(dataset = train_set, batch_size = batch_size, shuffle = True)\n",
    "#val_loader = DataLoader(dataset = val_set, batch_size = batch_size, shuffle = True)\n",
    "#test_loader = DataLoader(dataset = test_set, batch_size = batch_size, shuffle = True)\n",
    "\n",
    "\n",
    "#LOADER PESATI\n",
    "\n",
    "le = preprocessing.LabelEncoder()\n",
    "df = pd.read_csv(\"classes_denoised_small.csv\", header = None)\n",
    "labels = le.fit_transform(df.iloc[:, 1])\n",
    "val_targets = labels[val_set.indices]\n",
    "#train_targets = labels[train_set.indices]\n",
    "train_targets = labels[train_set_temp.indices]\n",
    "weight = np.zeros(397)\n",
    "class_sample_count = np.unique(val_targets, return_counts=True)\n",
    "weight[class_sample_count[0]] = 1. / class_sample_count[1]\n",
    "val_weight = weight[val_targets]\n",
    "val_weight = torch.from_numpy(val_weight)\n",
    "weight = np.zeros(397)\n",
    "class_sample_count = np.unique(val_targets, return_counts=True)\n",
    "weight[class_sample_count[0]] = 1. / class_sample_count[1]\n",
    "train_weight = weight[train_targets]\n",
    "train_weight = torch.from_numpy(train_weight)\n",
    "\n",
    "train_sampler = WeightedRandomSampler(weights=train_weight,num_samples=len(train_set),replacement=True)\n",
    "train_loader = DataLoader(dataset = train_set,batch_size = batch_size, sampler=train_sampler)#, shuffle = True) \n",
    "val_sampler = WeightedRandomSampler(weights=val_weight,num_samples=vallen,replacement=True)\n",
    "val_loader = DataLoader(dataset = val_set, batch_size = batch_size, sampler=val_sampler) #, shuffle = True)\n",
    "test_loader = DataLoader(dataset = test_set, batch_size = batch_size, shuffle = True)"
   ]
  },
  {
   "cell_type": "markdown",
   "metadata": {},
   "source": [
    "Definizione modelli nella cella seguente"
   ]
  },
  {
   "cell_type": "code",
   "execution_count": null,
   "metadata": {
    "jupyter": {
     "source_hidden": true
    },
    "tags": []
   },
   "outputs": [],
   "source": [
    "class CNN(nn.Module):\n",
    "    def __init__(self, input_channels: int, out_dim: int, drop = False, batchnorm = False) -> None:\n",
    "\n",
    "        super().__init__()\n",
    "        #self.n_feature = n_feature\n",
    "        self.conv1 = nn.Conv2d(\n",
    "            in_channels=input_channels, out_channels=32, kernel_size=5, padding=2\n",
    "        )\n",
    "        self.conv2 = nn.Conv2d(32, 64, kernel_size=5, padding=2)\n",
    "        self.conv3 = nn.Conv2d(64, 128, kernel_size=5, padding=2)\n",
    "        self.batchnorm1 = nn.BatchNorm2d(32)\n",
    "        self.batchnorm2 = nn.BatchNorm2d(64)\n",
    "        self.batchnorm3 = nn.BatchNorm2d(128)\n",
    "        self.dropout2 = nn.Dropout(0.5)\n",
    "        self.fc1 = nn.Linear(128*12*4, out_dim)\n",
    "        self.fc2 = nn.Linear(out_dim, out_dim)\n",
    "        self.drop = drop\n",
    "        self.batchnorm = batchnorm\n",
    "\n",
    "    def forward(\n",
    "        self,\n",
    "        x: torch.Tensor,\n",
    "    ) -> torch.Tensor:\n",
    "        \n",
    "        x = self.conv1(x)\n",
    "        x = F.relu(x)\n",
    "        if self.batchnorm:\n",
    "            x = self.batchnorm1(x)\n",
    "        x = F.max_pool2d(x, kernel_size=2)\n",
    "        \n",
    "        x = self.conv2(x)\n",
    "        x = F.relu(x)\n",
    "        if self.batchnorm:\n",
    "            x = self.batchnorm2(x)\n",
    "        x = F.max_pool2d(x, kernel_size=2)\n",
    "            \n",
    "        x = self.conv3(x)\n",
    "        x = F.relu(x)\n",
    "        if self.batchnorm:\n",
    "            x = self.batchnorm3(x)\n",
    "        x = F.max_pool2d(x, kernel_size=2)\n",
    "\n",
    "        \n",
    "        x = x.view(x.shape[0], -1)\n",
    "        x = self.fc1(x)\n",
    "        x = F.relu(x)\n",
    "        if self.drop:\n",
    "            x = self.dropout2(x)\n",
    "        \n",
    "        x = self.fc2(x)\n",
    "        return x\n",
    " \n",
    "    \n",
    "class Resnet_model(nn.Module):\n",
    "    def __init__(self, in_dim, out_dim):\n",
    "        super(BirdNet, self).__init__()\n",
    "        self.dropout = nn.Dropout(p=0.5)\n",
    "        self.dense_output = nn.Linear(in_dim, out_dim)\n",
    "        self.resnet = resnet34(pretrained=True)\n",
    "        self.resnet_head = list(self.resnet.children())\n",
    "        self.resnet_head = nn.Sequential(*self.resnet_head[:-1])\n",
    "\n",
    "    def forward(self, x):\n",
    "        x = self.resnet_head(x)\n",
    "        return self.dense_output(self.dropout(x.view(-1, res_out)))\n",
    "    \n",
    "    \n",
    "class CNN2(nn.Module):\n",
    "    def __init__(self, input_channels: int, out_dim: int, drop = False, batchnorm = False) -> None:\n",
    "\n",
    "        super().__init__()\n",
    "        self.conv1 = nn.Conv2d(\n",
    "            in_channels=input_channels, out_channels=64, kernel_size=7, stride=2, padding=3\n",
    "        )\n",
    "        self.conv2 = nn.Conv2d(64, 128, kernel_size=5, padding=2)\n",
    "        self.conv3 = nn.Conv2d(128, 256, kernel_size=3, padding=1)\n",
    "        self.conv4 = nn.Conv2d(256, 512, kernel_size=3, padding=1)\n",
    "        self.conv5 = nn.Conv2d(512, 1024, kernel_size=3, padding=1)\n",
    "        self.batchnorm1 = nn.BatchNorm2d(64)\n",
    "        self.batchnorm2 = nn.BatchNorm2d(128)\n",
    "        self.batchnorm3 = nn.BatchNorm2d(256)\n",
    "        self.batchnorm4 = nn.BatchNorm2d(512)\n",
    "        self.batchnorm5 = nn.BatchNorm2d(1024)\n",
    "        self.dropout1 = nn.Dropout(0.5)\n",
    "        self.fc1 = nn.Linear(1024 * 6 * 2, 512)\n",
    "        self.fc2 = nn.Linear(512, 512) # dropout 0.5\n",
    "        self.fc3 = nn.Linear(512, out_dim) #512 units dropout 0.5\n",
    "        self.drop = drop\n",
    "        self.batchnorm = batchnorm\n",
    "\n",
    "    def forward(\n",
    "        self,\n",
    "        x: torch.Tensor,\n",
    "    ) -> torch.Tensor:\n",
    "\n",
    "        x = self.conv1(x)\n",
    "        x = self.batchnorm1(x)\n",
    "        x = F.elu(x)\n",
    "        x = F.max_pool2d(x, kernel_size=2)\n",
    "    \n",
    "        x = self.conv2(x)\n",
    "        x = self.batchnorm2(x)\n",
    "        x = F.elu(x)\n",
    "        x = F.max_pool2d(x, kernel_size=2)\n",
    "\n",
    "        x = self.conv3(x)\n",
    "        x = self.batchnorm3(x)\n",
    "        x = F.elu(x)\n",
    "        x = F.max_pool2d(x, kernel_size=2)\n",
    "\n",
    "        x = self.conv4(x)\n",
    "        x = self.batchnorm4(x)\n",
    "        x = F.elu(x)\n",
    "        x = F.max_pool2d(x, kernel_size=2)\n",
    "\n",
    "        x = self.conv5(x)\n",
    "        x = self.batchnorm5(x)\n",
    "        x = F.elu(x)\n",
    "        x = F.max_pool2d(x, kernel_size=2)\n",
    "\n",
    "        x = x.view(x.shape[0], -1)\n",
    "        x = self.fc1(x)\n",
    "        x = F.elu(x)\n",
    "        x = self.dropout1(x)\n",
    "        \n",
    "        x = self.fc2(x)\n",
    "        x = F.elu(x)\n",
    "        x = self.dropout1(x)\n",
    "        \n",
    "        x = self.fc3(x)\n",
    "        return x    \n",
    "    \n",
    "class M5(nn.Module):\n",
    "    def __init__(self,  n_output:int, n_input=1, n_channel=32):\n",
    "        super().__init__()\n",
    "        self.conv1 = nn.Conv1d(n_input, n_channel, kernel_size=80, stride=16)\n",
    "        self.bn1 = nn.BatchNorm1d(n_channel)\n",
    "        self.pool1 = nn.MaxPool1d(4)\n",
    "        self.conv2 = nn.Conv1d(n_channel, n_channel, kernel_size=3)\n",
    "        self.bn2 = nn.BatchNorm1d(n_channel)\n",
    "        self.pool2 = nn.MaxPool1d(4)\n",
    "        self.conv3 = nn.Conv1d(n_channel, 2 * n_channel, kernel_size=3)\n",
    "        self.bn3 = nn.BatchNorm1d(2 * n_channel)\n",
    "        self.pool3 = nn.MaxPool1d(4)\n",
    "        self.conv4 = nn.Conv1d(2 * n_channel, 2 * n_channel, kernel_size=3)\n",
    "        self.bn4 = nn.BatchNorm1d(2 * n_channel)\n",
    "        self.pool4 = nn.MaxPool1d(4)\n",
    "        self.fc1 = nn.Linear(2 * n_channel, n_output)\n",
    "\n",
    "    def forward(self, x):\n",
    "        x = self.conv1(x)\n",
    "        x = F.relu(self.bn1(x))\n",
    "        x = self.pool1(x)\n",
    "        x = self.conv2(x)\n",
    "        x = F.relu(self.bn2(x))\n",
    "        x = self.pool2(x)\n",
    "        x = self.conv3(x)\n",
    "        x = F.relu(self.bn3(x))\n",
    "        x = self.pool3(x)\n",
    "        x = self.conv4(x)\n",
    "        x = F.relu(self.bn4(x))\n",
    "        x = self.pool4(x)\n",
    "        x = F.avg_pool1d(x, x.shape[-1])\n",
    "        x = x.permute(0, 2, 1)\n",
    "        x = self.fc1(x)\n",
    "        return x #F.log_softmax(x, dim=2)"
   ]
  },
  {
   "cell_type": "markdown",
   "metadata": {},
   "source": [
    "Definizione funzione fit"
   ]
  },
  {
   "cell_type": "code",
   "execution_count": null,
   "metadata": {
    "jupyter": {
     "source_hidden": true
    },
    "tags": []
   },
   "outputs": [],
   "source": [
    "def fit(model, train_loader, criterion, num_epochs=1, channels = 1, checkpoint_loc=None, checkpoint_name=None, epoch_start_scheduler=1):\n",
    "    \n",
    "    if checkpoint_loc is not None:\n",
    "        os.makedirs(checkpoint_loc, exist_ok=True)\n",
    "    \n",
    "    \n",
    "    for epoch in tqdm(range(num_epochs), leave=False):\n",
    "        model.train()\n",
    "        train_losses = []\n",
    "        train_accs = []\n",
    "        val_losses = []\n",
    "        val_accs = []\n",
    "        temp_loss_sum = 0\n",
    "        temp_acc_sum = 0\n",
    "        for batch_idx, (data, targets) in enumerate(train_loader):\n",
    "            if(channels == 3): data = torch.cat((data, data, data), 1)\n",
    "            data = data.to(device=device)\n",
    "            targets = targets.to(device=device)\n",
    "            pred = model(data)\n",
    "            train_loss = criterion(pred,targets.long())\n",
    "            train_acc = sum(torch.argmax(pred, dim=1)==targets)/len(targets)\n",
    "\n",
    "            train_losses.append(train_loss.item())\n",
    "            train_accs.append(train_acc)\n",
    "\n",
    "            optimizer.zero_grad()\n",
    "            train_loss.backward()\n",
    "\n",
    "            \n",
    "            optimizer.step()\n",
    "            \n",
    "            if checkpoint_name is not None and checkpoint_loc is not None:\n",
    "                checkpoint_dict = {\n",
    "                    \"parameters\": model.state_dict(),\n",
    "                    \"optimizer\": optimizer.state_dict(),\n",
    "                    \"epoch\": epoch\n",
    "                }\n",
    "                torch.save(checkpoint_dict, os.path.join(checkpoint_loc, checkpoint_name))\n",
    "        \n",
    "        with torch.no_grad():\n",
    "            model.eval()\n",
    "            for batch_idx, (data, targets) in enumerate(val_loader):\n",
    "                if(channels == 3): data = torch.cat((data, data, data), 1)\n",
    "                data = data.to(device=device)\n",
    "                targets = targets.to(device=device)\n",
    "                pred = model(data)\n",
    "                val_loss = criterion(pred,targets.long())\n",
    "                val_acc = sum(torch.argmax(pred, dim=1)==targets)/len(targets)\n",
    "                val_losses.append(val_loss.item())\n",
    "                val_accs.append(val_acc)\n",
    "        \n",
    "        if(epoch >= epoch_start_scheduler):\n",
    "            scheduler.step()\n",
    "        \n",
    "        avgtrainloss = sum(train_losses)/len(train_losses)\n",
    "        avgvalloss = sum(val_losses)/len(val_losses)\n",
    "        avgtrainacc = sum(train_accs)/len(train_accs)\n",
    "        avgvalacc = sum(val_accs)/len(val_accs)\n",
    "        wandb.log({\n",
    "            \"train_acc\" : avgtrainacc,\n",
    "            \"val_acc\" : avgvalacc,\n",
    "            \"train_loss\": avgtrainloss,\n",
    "            \"val_loss\": avgvalloss\n",
    "        })\n",
    "                  \n",
    "        print(f'Train accuracy at epoch {epoch} is {avgtrainacc}')\n",
    "        print(f'Validation accuracy at epoch {epoch} is {avgvalacc}')"
   ]
  },
  {
   "cell_type": "markdown",
   "metadata": {},
   "source": [
    "### Small CNN"
   ]
  },
  {
   "cell_type": "code",
   "execution_count": null,
   "metadata": {
    "tags": []
   },
   "outputs": [],
   "source": [
    "learning_rate = 1e-1\n",
    "wandb.init(project=\"jupyter-project\",\n",
    "           config={\n",
    "               \"model\": \"SimpleCNN\",\n",
    "               \"batch_size\": batch_size,\n",
    "               \"learning_rate\": learning_rate,\n",
    "               \"dropout\": 0.5\n",
    "           })"
   ]
  },
  {
   "cell_type": "code",
   "execution_count": null,
   "metadata": {},
   "outputs": [],
   "source": [
    "input_channels = 1\n",
    "out_dim = 397\n",
    "\n",
    "\n",
    "model = CNN(input_channels=input_channels, out_dim=out_dim, drop = True, batchnorm = True)\n",
    "model.to(device)\n",
    "optimizer = optim.SGD(model.parameters(), lr = learning_rate)\n",
    "scheduler = optim.lr_scheduler.StepLR(optimizer, step_size=3, gamma=0.75)"
   ]
  },
  {
   "cell_type": "code",
   "execution_count": null,
   "metadata": {
    "tags": []
   },
   "outputs": [],
   "source": [
    "%%wandb\n",
    "\n",
    "fit(model=model, train_loader=train_loader, criterion=nn.CrossEntropyLoss(), num_epochs=20, checkpoint_loc = \"model_checkpoints\", checkpoint_name=\"SimpleCNN_drop_noise\", epoch_start_scheduler = 7)"
   ]
  },
  {
   "cell_type": "markdown",
   "metadata": {},
   "source": [
    "### Resnet"
   ]
  },
  {
   "cell_type": "code",
   "execution_count": null,
   "metadata": {
    "tags": []
   },
   "outputs": [],
   "source": [
    "learning_rate = 1e-1\n",
    "wandb.init(project=\"jupyter-project\", resume=False,\n",
    "           config={\n",
    "               \"model\": \"ResNet\",\n",
    "               \"batch_size\": batch_size,\n",
    "               \"learning_rate\": learning_rate,\n",
    "               \"dropout\": 0.5,\n",
    "           })"
   ]
  },
  {
   "cell_type": "code",
   "execution_count": null,
   "metadata": {},
   "outputs": [],
   "source": [
    "res_out = 512\n",
    "out_dim = 397\n",
    "\n",
    "model = Resnet_model(in_dim = res_out, out_dim = out_dim)\n",
    "model.to(device)\n",
    "optimizer = optim.SGD(model.parameters(), lr = learning_rate)\n",
    "scheduler = optim.lr_scheduler.StepLR(optimizer, step_size=5, gamma=0.1)"
   ]
  },
  {
   "cell_type": "code",
   "execution_count": null,
   "metadata": {
    "tags": []
   },
   "outputs": [],
   "source": [
    "%%wandb\n",
    "fit(model=model, train_loader=train_loader, criterion=nn.CrossEntropyLoss(), num_epochs=15, channels=3)"
   ]
  },
  {
   "cell_type": "markdown",
   "metadata": {},
   "source": [
    "### Big CNN"
   ]
  },
  {
   "cell_type": "code",
   "execution_count": null,
   "metadata": {
    "tags": []
   },
   "outputs": [],
   "source": [
    "learning_rate = 1e-1\n",
    "wandb.init(project=\"jupyter-project\", resume=\"1iovfjai\", \n",
    "           config={\n",
    "               \"model\": \"BiggerCNN\",\n",
    "               \"batch_size\": batch_size,\n",
    "               \"learning_rate\": learning_rate,\n",
    "               \"dropout\": 0.5\n",
    "           })"
   ]
  },
  {
   "cell_type": "code",
   "execution_count": null,
   "metadata": {},
   "outputs": [],
   "source": [
    "input_channels = 1\n",
    "out_dim = 397\n",
    "\n",
    "#checkpoint_dic = torch.load(\"model_checkpoints/BigCNN_drop_noise\")\n",
    "model =  CNN2(input_channels=input_channels, out_dim=out_dim, drop = True, batchnorm = True)\n",
    "#model.load_state_dict(checkpoint_dic[\"parameters\"])\n",
    "model.to(device)\n",
    "optimizer = optim.SGD(model.parameters(), lr = learning_rate)\n",
    "#optimizer.load_state_dict(checkpoint_dic['optimizer'])\n",
    "scheduler = optim.lr_scheduler.StepLR(optimizer, step_size=3, gamma=0.75)"
   ]
  },
  {
   "cell_type": "code",
   "execution_count": null,
   "metadata": {
    "scrolled": true,
    "tags": []
   },
   "outputs": [],
   "source": [
    "fit(model=model, train_loader=train_loader, criterion=nn.CrossEntropyLoss(), num_epochs=20, checkpoint_loc = \"model_checkpoints\", checkpoint_name=\"BigCNN_drop_noise\", epoch_start_scheduler = 2)"
   ]
  },
  {
   "cell_type": "markdown",
   "metadata": {},
   "source": [
    "### 1D CNN"
   ]
  },
  {
   "cell_type": "code",
   "execution_count": null,
   "metadata": {},
   "outputs": [],
   "source": [
    "learning_rate = 1e-1\n",
    "wandb.init(project=\"jupyter-project\",\n",
    "           config={\n",
    "               \"model\": \"CNN1D\",\n",
    "               \"batch_size\": batch_size,\n",
    "               \"learning_rate\": learning_rate,\n",
    "               \"dropout\": 0.5\n",
    "           })"
   ]
  },
  {
   "cell_type": "code",
   "execution_count": null,
   "metadata": {},
   "outputs": [],
   "source": [
    "input_channels = 1\n",
    "out_dim = 397\n",
    "\n",
    "model = M5(n_input = input_channels, n_output=out_dim)\n",
    "#dic = torch.load(\"model_checkpoints/1DCNN\")\n",
    "#model.load_state_dict(dic[\"parameters\"])\n",
    "model.to(device)\n",
    "optimizer = optim.SGD(model.parameters(), lr = learning_rate)\n",
    "#optimizer.load_state_dict(dic['optimizer'])\n",
    "scheduler = optim.lr_scheduler.StepLR(optimizer, step_size=3, gamma=0.75)"
   ]
  },
  {
   "cell_type": "code",
   "execution_count": null,
   "metadata": {},
   "outputs": [],
   "source": [
    "fit(model=model, train_loader=train_loader, criterion=nn.CrossEntropyLoss(), num_epochs=30, checkpoint_loc = \"model_checkpoints\", checkpoint_name=\"1DCNN_normalized2\", epoch_start_scheduler = 7)"
   ]
  }
 ],
 "metadata": {
  "kernelspec": {
   "display_name": "Python 3",
   "language": "python",
   "name": "python3"
  },
  "language_info": {
   "codemirror_mode": {
    "name": "ipython",
    "version": 3
   },
   "file_extension": ".py",
   "mimetype": "text/x-python",
   "name": "python",
   "nbconvert_exporter": "python",
   "pygments_lexer": "ipython3",
   "version": "3.8.8"
  }
 },
 "nbformat": 4,
 "nbformat_minor": 4
}
